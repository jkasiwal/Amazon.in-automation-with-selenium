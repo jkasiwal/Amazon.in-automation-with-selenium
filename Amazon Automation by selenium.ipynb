{
 "cells": [
  {
   "cell_type": "code",
   "execution_count": 1,
   "id": "462ced90",
   "metadata": {},
   "outputs": [],
   "source": [
    "\n",
    "from selenium import webdriver\n",
    "from selenium.webdriver.common.by import By\n",
    "from time import sleep\n",
    "from selenium.webdriver.common.keys import Keys"
   ]
  },
  {
   "cell_type": "code",
   "execution_count": 2,
   "id": "651cc9d3",
   "metadata": {},
   "outputs": [],
   "source": [
    "## set path for driver\n",
    "path = 'c://chromedriver.exe'\n"
   ]
  },
  {
   "cell_type": "code",
   "execution_count": 3,
   "id": "de89850f",
   "metadata": {},
   "outputs": [
    {
     "name": "stderr",
     "output_type": "stream",
     "text": [
      "<ipython-input-3-5b9e4fb774b8>:2: DeprecationWarning: executable_path has been deprecated, please pass in a Service object\n",
      "  driver = webdriver.Chrome(executable_path=path)\n"
     ]
    }
   ],
   "source": [
    "## open the browser\n",
    "driver = webdriver.Chrome(executable_path=path)"
   ]
  },
  {
   "cell_type": "code",
   "execution_count": 4,
   "id": "4e3ab7bf",
   "metadata": {},
   "outputs": [],
   "source": [
    "## load the webpage\n",
    "driver.get('https://amazon.in')"
   ]
  },
  {
   "cell_type": "code",
   "execution_count": 5,
   "id": "85e317ef",
   "metadata": {},
   "outputs": [],
   "source": [
    "driver.maximize_window()"
   ]
  },
  {
   "cell_type": "code",
   "execution_count": 6,
   "id": "7da32eb9",
   "metadata": {},
   "outputs": [],
   "source": [
    "## get the inputs\n",
    "input_search = driver.find_element(By.ID,'twotabsearchtextbox')\n",
    "search_button = driver.find_element(By.XPATH,\"//input[@type='submit']\")\n",
    "    "
   ]
  },
  {
   "cell_type": "code",
   "execution_count": 7,
   "id": "5e0b7c78",
   "metadata": {},
   "outputs": [],
   "source": [
    "## sends the inputs to the webpage\n",
    "input_search.send_keys(\"motorola smartphone under 10000\")\n",
    "sleep(1)\n",
    "search_button.click()"
   ]
  },
  {
   "cell_type": "code",
   "execution_count": 8,
   "id": "b841ef7f",
   "metadata": {},
   "outputs": [],
   "source": [
    "product_class =\"a-size-medium a-color-base a-text-normal\"\n"
   ]
  },
  {
   "cell_type": "code",
   "execution_count": 9,
   "id": "79e83497",
   "metadata": {},
   "outputs": [
    {
     "name": "stdout",
     "output_type": "stream",
     "text": [
      "Scraping page 1\n",
      "Scraping page 2\n",
      "Scraping page 3\n",
      "Scraping page 4\n",
      "Scraping page 5\n",
      "Scraping page 6\n",
      "Scraping page 7\n",
      "Scraping page 8\n",
      "Scraping page 9\n",
      "Scraping page 10\n"
     ]
    }
   ],
   "source": [
    "products = []\n",
    "for i in range(10):\n",
    "    print('Scraping page', i+1) \n",
    "    product = driver.find_elements(By.XPATH,\"//span[@class='a-size-medium a-color-base a-text-normal']\")\n",
    "    for p in product:\n",
    "        products.append(p.text)\n",
    "    next_button = driver.find_element(By.XPATH,\"//a[@class='s-pagination-item s-pagination-button']\") \n",
    "    next_button.click()\n",
    "    sleep(2)\n"
   ]
  },
  {
   "cell_type": "code",
   "execution_count": 10,
   "id": "bd030a3d",
   "metadata": {},
   "outputs": [
    {
     "data": {
      "text/plain": [
       "177"
      ]
     },
     "execution_count": 10,
     "metadata": {},
     "output_type": "execute_result"
    }
   ],
   "source": [
    "len(products)"
   ]
  },
  {
   "cell_type": "code",
   "execution_count": 11,
   "id": "317b235a",
   "metadata": {},
   "outputs": [
    {
     "data": {
      "text/plain": [
       "['Motorola E22s (4GB, 64GB) (Eco Black)',\n",
       " 'MOTOROLA e32s (Slate Gray, 4GB RAM 64GB Storage)',\n",
       " 'MOTOROLA e32s (Misty Silver, 3GB RAM 32GB Storage)',\n",
       " 'Motorola G Turbo (Black, 16GB)',\n",
       " 'Moto E40 (Carbon Gray, 64 GB) (4 GB RAM)']"
      ]
     },
     "execution_count": 11,
     "metadata": {},
     "output_type": "execute_result"
    }
   ],
   "source": [
    "products[:5]"
   ]
  },
  {
   "cell_type": "code",
   "execution_count": null,
   "id": "a83da784",
   "metadata": {},
   "outputs": [],
   "source": []
  }
 ],
 "metadata": {
  "kernelspec": {
   "display_name": "Python 3",
   "language": "python",
   "name": "python3"
  },
  "language_info": {
   "codemirror_mode": {
    "name": "ipython",
    "version": 3
   },
   "file_extension": ".py",
   "mimetype": "text/x-python",
   "name": "python",
   "nbconvert_exporter": "python",
   "pygments_lexer": "ipython3",
   "version": "3.8.8"
  }
 },
 "nbformat": 4,
 "nbformat_minor": 5
}
